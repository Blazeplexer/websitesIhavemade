{
 "metadata": {
  "language_info": {
   "codemirror_mode": {
    "name": "ipython",
    "version": 3
   },
   "file_extension": ".py",
   "mimetype": "text/x-python",
   "name": "python",
   "nbconvert_exporter": "python",
   "pygments_lexer": "ipython3",
   "version": "3.9.5"
  },
  "orig_nbformat": 2,
  "kernelspec": {
   "name": "python395jvsc74a57bd070abe3b4578fcb6005a623143b65e9c564c38a80097046b7661232885804d328",
   "display_name": "Python 3.9.5 64-bit"
  },
  "metadata": {
   "interpreter": {
    "hash": "70abe3b4578fcb6005a623143b65e9c564c38a80097046b7661232885804d328"
   }
  }
 },
 "nbformat": 4,
 "nbformat_minor": 2,
 "cells": [
  {
   "cell_type": "code",
   "execution_count": 2,
   "metadata": {
    "tags": []
   },
   "outputs": [
    {
     "output_type": "stream",
     "name": "stdout",
     "text": [
      " * Serving Flask app '__main__' (lazy loading)\n",
      " * Environment: production\n",
      "\u001b[31m   WARNING: This is a development server. Do not use it in a production deployment.\u001b[0m\n",
      "\u001b[2m   Use a production WSGI server instead.\u001b[0m\n",
      " * Debug mode: on\n",
      " * Restarting with stat\n"
     ]
    },
    {
     "output_type": "error",
     "ename": "SystemExit",
     "evalue": "2",
     "traceback": [
      "An exception has occurred, use %tb to see the full traceback.\n",
      "\u001b[1;31mSystemExit\u001b[0m\u001b[1;31m:\u001b[0m 2\n"
     ]
    }
   ],
   "source": [
    "import mysql.connector\n",
    "from flask import Flask, render_template, request, redirect\n",
    "from flask_mysqldb import MySQL\n",
    "app = Flask (__name__)\n",
    "\n",
    "app.config['MYSQL_HOST'] = \"localhost\"\n",
    "app.config['MYSQL_USER'] = \"wrestleBootsManager\"\n",
    "app.config['MYSQL_PASSWORD'] = \"wrestlebootspro\"\n",
    "app.config['MYSQL_DB'] = \"wrestlebootsstore\"\n",
    "\n",
    "mysql = MySQL(app)\n",
    "\n",
    "@app.route(\"/\")\n",
    "def main():\n",
    "    return render_template('index.html')\n",
    "@app.route(\"/AboutUs\")\n",
    "def AboutUs():\n",
    "    return render_template('AboutUs.html')\n",
    "@app.route(\"/ContactUs\")\n",
    "def ContactUs():\n",
    "    return render_template('ContactUs.html')\n",
    "@app.route(\"/LoginPage\")\n",
    "def LoginPage():\n",
    "    return render_template('LoginPage.html')\n",
    "@app.route(\"/Register\")\n",
    "def Register():\n",
    "    return render_template('Register.html')\n",
    "@app.route(\"/AdminLogin\")\n",
    "def AdminLogin():\n",
    "    return render_template('AdminLogin.html')\n",
    "@app.route(\"/AdminPage\")\n",
    "def AdminPage():\n",
    "    return render_template('AdminPage.html')\n",
    "@app.route(\"/Store\")\n",
    "def Store():\n",
    "    return render_template('Store.html')\n",
    "@app.route(\"/StorePurchase\",methods=['GET','POST'])\n",
    "def StorePurchase():\n",
    "    if request.method == \"POST\":\n",
    "        material = request.form['material'];\n",
    "        size = request.form['size'];\n",
    "        color = request.form['color'];\n",
    "        tipsColor = request.form['tipsColor'];\n",
    "        specialRequests = request.form['specialRequests'];\n",
    "        fname = request.form['fname'];\n",
    "        lname = request.form['lname'];\n",
    "        address = request.form['address'];\n",
    "        states = request.form['states'];\n",
    "        city = request.form['city'];\n",
    "        zipcode = request.form['zipcode'];\n",
    "        telephone = request.form['telephone'];\n",
    "        email = request.form['email'];\n",
    "        pay = request.form['pay'];\n",
    "        cardnumber = request.form['cardnumber'];\n",
    "\n",
    "        cur = mysql.connection.cursor()\n",
    "\n",
    "        cur.execute(\"INSERT INTO store (material, size, color, tipsColor, specialRequests, fname, lname, address, states, city, zipcode, telephone, email, pay, cardnumber), VALUES (%s, %s, %s, %s, %s, %s, %s, %s, %s, %s, %s, %s, %s, %s, %s)\", (material, size, color, tipsColor, specialRequests, fname, lname, address, states, city, zipcode, telephone, email, pay, cardnumber))\n",
    "\n",
    "        mysql.connection.commit()\n",
    "\n",
    "        cur.close()\n",
    "\n",
    "        return \"success\"\n",
    "    else:\n",
    "        return \"fail\"\n",
    "\n",
    "        #conn = mysql.connector.connect(user='wrestleBootsManager',password='wrestlebootspro', host='localhost', database='wrestlebootsstore')\n",
    "        #cursor = conn.cursor()\n",
    "        #query_string=\"INSERT INTO store (material, size, color, tipsColor, specialRequests, fname, lname, address, states, city, zipcode, telephone, email, pay, cardnumber) \"\n",
    "        #query_string+= \"VALUES (%s, %s, %s, %s, %s, %s, %s, %s, %s, %s, %s, %s, %s, %s, %s)\", (material, size, color, tipsColor, specialRequests, fname, lname, address, states, city, zipcode, telephone, email, pay, cardnumber)\n",
    "        #cursor.execute(\"INSERT INTO store (ID, material, size, color, tipsColor, specialRequests, fname, lname, address, states, city, zipcode, telephone, email, pay, cardnumber), VALUES (%s, %s, %s, %s, %s, %s, %s, %s, %s, %s, %s, %s, %s, %s, %s, %s)\", (ID, material, size, color, tipsColor, specialRequests, fname, lname, address, states, city, zipcode, telephone, email, pay, cardnumber))\n",
    "        #query_string = \"INSERT INTO store (material, size, color, tipsColor, specialRequests, fname, lname, address, states, city, zipcode, telephone, email, pay, cardnumber\"\n",
    "        #query_string += \"values ('\" + material +\"', '\" + size + \"', '\" + color + \"', '\" + tipscolor + \"', '\" + specialRequests + \"', '\" + fname + \"', '\" + lname + \"', '\" + address + \"', '\" + states + \"', '\" + city + \"', '\" + zipcode + \"', '\" + telephone + \"', '\" + email + \"', '\" + pay + \"', '\" + cardnumber + \"')\"         \n",
    "        #cursor.execute(query_string)\n",
    "        #conn.commit()\n",
    "\n",
    "        #return redirect(\"/\")\n",
    "    #else:\n",
    "        #return render_template('Store.html')\n",
    "\n",
    "\n",
    "\n",
    "\n",
    "\n",
    "@app.route(\"/AboutUsSignedIn\")\n",
    "def AboutUsSignedIn():\n",
    "    return render_template('AboutUsSignedIn.html')\n",
    "@app.route(\"/IndexSignedIn\")\n",
    "def IndexSignedIn():\n",
    "    return render_template('IndexSignedIn.html')\n",
    "@app.route(\"/ContactUsSignedIn\")\n",
    "def ContactUsSignedIn():\n",
    "    return render_template('ContactUsSignedIn.html')   \n",
    "if __name__ == \"__main__\":\n",
    "    app.run(debug=True)"
   ]
  }
 ]
}